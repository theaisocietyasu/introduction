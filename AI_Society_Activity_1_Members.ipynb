{
  "nbformat": 4,
  "nbformat_minor": 0,
  "metadata": {
    "colab": {
      "provenance": []
    },
    "kernelspec": {
      "name": "python3",
      "display_name": "Python 3"
    },
    "language_info": {
      "name": "python"
    }
  },
  "cells": [
    {
      "cell_type": "markdown",
      "source": [
        "# **AI Society Activity 1 - Data** 🤖 ✨\n",
        "\n",
        "## *Jupyter Notebooks and Python*\n",
        "For workshops, we typically use **Google Colab**, a service that allows you to run python code in a nice containerized environment. It even provides free GPU/TPU runtimes!\n",
        "_________________\n",
        "\n",
        "In Google Colab, you write code using **Jupyter notebooks**. Notebooks are comprised of text and code cells, which can be run by hitting `Shift + Enter`. For your convenience, here are a few more nifty keyboard shortcuts:\n",
        "\n",
        "* `Ctrl + m + b`: New cell below\n",
        "* `Ctrl + m + a`: New cell above\n",
        "\n",
        "\n",
        "## **Hardware Needed:** 💻\n",
        "* Any computer with access to the internet and web browser"
      ],
      "metadata": {
        "id": "d_hC64USwEk1"
      }
    },
    {
      "cell_type": "code",
      "source": [
        "# Print \"Hello World\" using the print()\n",
        "\n",
        "print(\"hello world!!\")"
      ],
      "metadata": {
        "id": "kZyJC0gOxJ0m",
        "colab": {
          "base_uri": "https://localhost:8080/"
        },
        "outputId": "e9b03086-0571-460a-b1d7-95238e2b3aac"
      },
      "execution_count": null,
      "outputs": [
        {
          "output_type": "stream",
          "name": "stdout",
          "text": [
            "hello world!!\n"
          ]
        }
      ]
    },
    {
      "cell_type": "markdown",
      "source": [
        "BE CAREFUL: in Jupyter notebooks, variables are _persistent across cells_, meaning you can run into nasty bugs if you're not careful with execution order. If something's ever behaving strangely and you think your code is ✨flawless✨, try restarting the runtime so that all vars are refreshed.\n",
        "\n",
        "Here's an example to illustrate this problem: TBH, you shouldn't write code like this anyways, but hopefully this gets the point across 😛"
      ],
      "metadata": {
        "id": "BINfqSqL1jPS"
      }
    },
    {
      "cell_type": "code",
      "source": [
        "x = 15"
      ],
      "metadata": {
        "id": "6X-z2UFr1wWg"
      },
      "execution_count": null,
      "outputs": []
    },
    {
      "cell_type": "code",
      "source": [
        "def add_5_to_x():\n",
        "    return x + 5"
      ],
      "metadata": {
        "id": "Ej25EPXs1y-b"
      },
      "execution_count": null,
      "outputs": []
    },
    {
      "cell_type": "code",
      "source": [
        "add_5_to_x()"
      ],
      "metadata": {
        "colab": {
          "base_uri": "https://localhost:8080/"
        },
        "id": "wHUKy4CM11xr",
        "outputId": "d704a944-36e6-481f-bcc8-10cc44cd1b94"
      },
      "execution_count": null,
      "outputs": [
        {
          "output_type": "execute_result",
          "data": {
            "text/plain": [
              "20"
            ]
          },
          "metadata": {},
          "execution_count": 6
        }
      ]
    },
    {
      "cell_type": "markdown",
      "source": [
        "Correct way:"
      ],
      "metadata": {
        "id": "Et-o8leK7ZxR"
      }
    },
    {
      "cell_type": "code",
      "source": [
        "def add_5_to_x(x):\n",
        "    return x + 5\n",
        "\n",
        "add_5_to_x(20)\n"
      ],
      "metadata": {
        "colab": {
          "base_uri": "https://localhost:8080/"
        },
        "id": "IMCI53Lb66iS",
        "outputId": "b355c9cc-c963-402a-920c-634531068548"
      },
      "execution_count": null,
      "outputs": [
        {
          "output_type": "execute_result",
          "data": {
            "text/plain": [
              "25"
            ]
          },
          "metadata": {},
          "execution_count": 7
        }
      ]
    },
    {
      "cell_type": "markdown",
      "source": [
        "<div class=\"markdown-google-sans\">\n",
        "\n",
        "## **Getting started** ⏬\n",
        "</div>\n",
        "\n",
        "The document you are reading is not a static web page, but an interactive environment called a **Colab notebook** that lets you write and execute code.\n",
        "\n",
        "For example, here is a **code cell** with a short Python script that computes a value, stores it in a variable, and prints the result:"
      ],
      "metadata": {
        "id": "3juQmaHg751e"
      }
    },
    {
      "cell_type": "code",
      "source": [
        "seconds_in_a_day = 24 * 60 * 60\n",
        "seconds_in_a_day"
      ],
      "metadata": {
        "colab": {
          "base_uri": "https://localhost:8080/"
        },
        "id": "snMrpvxl8O-x",
        "outputId": "68637191-870f-42a4-827c-ffb1a3d9eae6"
      },
      "execution_count": null,
      "outputs": [
        {
          "output_type": "execute_result",
          "data": {
            "text/plain": [
              "86400"
            ]
          },
          "metadata": {},
          "execution_count": 10
        }
      ]
    },
    {
      "cell_type": "markdown",
      "source": [
        "To execute the code in the above cell, select it with a click and then either press the play button to the left of the code, or use the keyboard shortcut \"Command/Ctrl+Enter\". To edit the code, just click the cell and start editing.\n",
        "\n",
        "Variables that you define in one cell can later be used in other cells:"
      ],
      "metadata": {
        "id": "RfQoQnAO8X9c"
      }
    },
    {
      "cell_type": "code",
      "source": [
        "seconds_in_a_week = 7 * seconds_in_a_day\n",
        "seconds_in_a_week"
      ],
      "metadata": {
        "id": "mfxZDO3V8U00"
      },
      "execution_count": null,
      "outputs": []
    },
    {
      "cell_type": "markdown",
      "source": [
        "##**Example TASK 1** : ⭕\n",
        "* Print array of [\"orange\", \"apple\", \"grapes\"]\n",
        "* make a variable called *fruits*\n",
        "\n",
        "**OUTPUT:** ['orange', 'apple', 'grapes']"
      ],
      "metadata": {
        "id": "JR4TGQdxyYb6"
      }
    },
    {
      "cell_type": "code",
      "source": [
        "# Print array of [\"orange\", \"apple\", \"grapes\"]\n",
        "# make a variable called *fruits*\n",
        "\n",
        "fruits= [\"orange\", \"apple\", \"grapes\"]\n",
        "fruits\n"
      ],
      "metadata": {
        "id": "fMnO3FPuxqGg",
        "colab": {
          "base_uri": "https://localhost:8080/"
        },
        "outputId": "ba4fc112-8599-4ce3-b49f-023b8f67111e"
      },
      "execution_count": null,
      "outputs": [
        {
          "output_type": "execute_result",
          "data": {
            "text/plain": [
              "['orange', 'apple', 'grapes']"
            ]
          },
          "metadata": {},
          "execution_count": 8
        }
      ]
    },
    {
      "cell_type": "markdown",
      "source": [
        "##**TASK 1: Calculate the Sum of Numbers in a List** ✅\n",
        "* Create a list of numbers ([2, 4, 6, 8, 10]).\n",
        "* Write a Python program to calculate and print the sum of all the numbers in the list.\n",
        "**OUTPUT:* **Sum of numbers: 30**"
      ],
      "metadata": {
        "id": "SxdhYyw0-I_l"
      }
    },
    {
      "cell_type": "code",
      "source": [
        "#Write your code here"
      ],
      "metadata": {
        "id": "YHGPPLxa-jon"
      },
      "execution_count": null,
      "outputs": []
    },
    {
      "cell_type": "markdown",
      "source": [
        "## **Example TASK 2** : ⭕\n",
        "* make sure to import pandas\n",
        "\n",
        "* Read titanic.csv using pandas & *.read_csv*\n",
        "\n",
        "https://github.com/agconti/kaggle-titanic/blob/master/data/train.csv"
      ],
      "metadata": {
        "id": "ypnxt2w-zDfQ"
      }
    },
    {
      "cell_type": "code",
      "source": [
        "# write your code here\n",
        "import pandas as pd\n",
        "df=pd.read_csv(\"titanic.csv\")\n",
        "df"
      ],
      "metadata": {
        "id": "pCFI5uF9zySm",
        "colab": {
          "base_uri": "https://localhost:8080/",
          "height": 475
        },
        "outputId": "9575bd5a-63bc-4a48-bd2c-e583cfd3776b"
      },
      "execution_count": null,
      "outputs": [
        {
          "output_type": "execute_result",
          "data": {
            "text/plain": [
              "     PassengerId  Survived  Pclass  \\\n",
              "0              1         0       3   \n",
              "1              2         1       1   \n",
              "2              3         1       3   \n",
              "3              4         1       1   \n",
              "4              5         0       3   \n",
              "..           ...       ...     ...   \n",
              "886          887         0       2   \n",
              "887          888         1       1   \n",
              "888          889         0       3   \n",
              "889          890         1       1   \n",
              "890          891         0       3   \n",
              "\n",
              "                                                  Name     Sex   Age  SibSp  \\\n",
              "0                              Braund, Mr. Owen Harris    male  22.0      1   \n",
              "1    Cumings, Mrs. John Bradley (Florence Briggs Th...  female  38.0      1   \n",
              "2                               Heikkinen, Miss. Laina  female  26.0      0   \n",
              "3         Futrelle, Mrs. Jacques Heath (Lily May Peel)  female  35.0      1   \n",
              "4                             Allen, Mr. William Henry    male  35.0      0   \n",
              "..                                                 ...     ...   ...    ...   \n",
              "886                              Montvila, Rev. Juozas    male  27.0      0   \n",
              "887                       Graham, Miss. Margaret Edith  female  19.0      0   \n",
              "888           Johnston, Miss. Catherine Helen \"Carrie\"  female   NaN      1   \n",
              "889                              Behr, Mr. Karl Howell    male  26.0      0   \n",
              "890                                Dooley, Mr. Patrick    male  32.0      0   \n",
              "\n",
              "     Parch            Ticket     Fare Cabin Embarked  \n",
              "0        0         A/5 21171   7.2500   NaN        S  \n",
              "1        0          PC 17599  71.2833   C85        C  \n",
              "2        0  STON/O2. 3101282   7.9250   NaN        S  \n",
              "3        0            113803  53.1000  C123        S  \n",
              "4        0            373450   8.0500   NaN        S  \n",
              "..     ...               ...      ...   ...      ...  \n",
              "886      0            211536  13.0000   NaN        S  \n",
              "887      0            112053  30.0000   B42        S  \n",
              "888      2        W./C. 6607  23.4500   NaN        S  \n",
              "889      0            111369  30.0000  C148        C  \n",
              "890      0            370376   7.7500   NaN        Q  \n",
              "\n",
              "[891 rows x 12 columns]"
            ],
            "text/html": [
              "\n",
              "  <div id=\"df-ce2a9872-6f02-4865-817c-2cb54f7104e6\" class=\"colab-df-container\">\n",
              "    <div>\n",
              "<style scoped>\n",
              "    .dataframe tbody tr th:only-of-type {\n",
              "        vertical-align: middle;\n",
              "    }\n",
              "\n",
              "    .dataframe tbody tr th {\n",
              "        vertical-align: top;\n",
              "    }\n",
              "\n",
              "    .dataframe thead th {\n",
              "        text-align: right;\n",
              "    }\n",
              "</style>\n",
              "<table border=\"1\" class=\"dataframe\">\n",
              "  <thead>\n",
              "    <tr style=\"text-align: right;\">\n",
              "      <th></th>\n",
              "      <th>PassengerId</th>\n",
              "      <th>Survived</th>\n",
              "      <th>Pclass</th>\n",
              "      <th>Name</th>\n",
              "      <th>Sex</th>\n",
              "      <th>Age</th>\n",
              "      <th>SibSp</th>\n",
              "      <th>Parch</th>\n",
              "      <th>Ticket</th>\n",
              "      <th>Fare</th>\n",
              "      <th>Cabin</th>\n",
              "      <th>Embarked</th>\n",
              "    </tr>\n",
              "  </thead>\n",
              "  <tbody>\n",
              "    <tr>\n",
              "      <th>0</th>\n",
              "      <td>1</td>\n",
              "      <td>0</td>\n",
              "      <td>3</td>\n",
              "      <td>Braund, Mr. Owen Harris</td>\n",
              "      <td>male</td>\n",
              "      <td>22.0</td>\n",
              "      <td>1</td>\n",
              "      <td>0</td>\n",
              "      <td>A/5 21171</td>\n",
              "      <td>7.2500</td>\n",
              "      <td>NaN</td>\n",
              "      <td>S</td>\n",
              "    </tr>\n",
              "    <tr>\n",
              "      <th>1</th>\n",
              "      <td>2</td>\n",
              "      <td>1</td>\n",
              "      <td>1</td>\n",
              "      <td>Cumings, Mrs. John Bradley (Florence Briggs Th...</td>\n",
              "      <td>female</td>\n",
              "      <td>38.0</td>\n",
              "      <td>1</td>\n",
              "      <td>0</td>\n",
              "      <td>PC 17599</td>\n",
              "      <td>71.2833</td>\n",
              "      <td>C85</td>\n",
              "      <td>C</td>\n",
              "    </tr>\n",
              "    <tr>\n",
              "      <th>2</th>\n",
              "      <td>3</td>\n",
              "      <td>1</td>\n",
              "      <td>3</td>\n",
              "      <td>Heikkinen, Miss. Laina</td>\n",
              "      <td>female</td>\n",
              "      <td>26.0</td>\n",
              "      <td>0</td>\n",
              "      <td>0</td>\n",
              "      <td>STON/O2. 3101282</td>\n",
              "      <td>7.9250</td>\n",
              "      <td>NaN</td>\n",
              "      <td>S</td>\n",
              "    </tr>\n",
              "    <tr>\n",
              "      <th>3</th>\n",
              "      <td>4</td>\n",
              "      <td>1</td>\n",
              "      <td>1</td>\n",
              "      <td>Futrelle, Mrs. Jacques Heath (Lily May Peel)</td>\n",
              "      <td>female</td>\n",
              "      <td>35.0</td>\n",
              "      <td>1</td>\n",
              "      <td>0</td>\n",
              "      <td>113803</td>\n",
              "      <td>53.1000</td>\n",
              "      <td>C123</td>\n",
              "      <td>S</td>\n",
              "    </tr>\n",
              "    <tr>\n",
              "      <th>4</th>\n",
              "      <td>5</td>\n",
              "      <td>0</td>\n",
              "      <td>3</td>\n",
              "      <td>Allen, Mr. William Henry</td>\n",
              "      <td>male</td>\n",
              "      <td>35.0</td>\n",
              "      <td>0</td>\n",
              "      <td>0</td>\n",
              "      <td>373450</td>\n",
              "      <td>8.0500</td>\n",
              "      <td>NaN</td>\n",
              "      <td>S</td>\n",
              "    </tr>\n",
              "    <tr>\n",
              "      <th>...</th>\n",
              "      <td>...</td>\n",
              "      <td>...</td>\n",
              "      <td>...</td>\n",
              "      <td>...</td>\n",
              "      <td>...</td>\n",
              "      <td>...</td>\n",
              "      <td>...</td>\n",
              "      <td>...</td>\n",
              "      <td>...</td>\n",
              "      <td>...</td>\n",
              "      <td>...</td>\n",
              "      <td>...</td>\n",
              "    </tr>\n",
              "    <tr>\n",
              "      <th>886</th>\n",
              "      <td>887</td>\n",
              "      <td>0</td>\n",
              "      <td>2</td>\n",
              "      <td>Montvila, Rev. Juozas</td>\n",
              "      <td>male</td>\n",
              "      <td>27.0</td>\n",
              "      <td>0</td>\n",
              "      <td>0</td>\n",
              "      <td>211536</td>\n",
              "      <td>13.0000</td>\n",
              "      <td>NaN</td>\n",
              "      <td>S</td>\n",
              "    </tr>\n",
              "    <tr>\n",
              "      <th>887</th>\n",
              "      <td>888</td>\n",
              "      <td>1</td>\n",
              "      <td>1</td>\n",
              "      <td>Graham, Miss. Margaret Edith</td>\n",
              "      <td>female</td>\n",
              "      <td>19.0</td>\n",
              "      <td>0</td>\n",
              "      <td>0</td>\n",
              "      <td>112053</td>\n",
              "      <td>30.0000</td>\n",
              "      <td>B42</td>\n",
              "      <td>S</td>\n",
              "    </tr>\n",
              "    <tr>\n",
              "      <th>888</th>\n",
              "      <td>889</td>\n",
              "      <td>0</td>\n",
              "      <td>3</td>\n",
              "      <td>Johnston, Miss. Catherine Helen \"Carrie\"</td>\n",
              "      <td>female</td>\n",
              "      <td>NaN</td>\n",
              "      <td>1</td>\n",
              "      <td>2</td>\n",
              "      <td>W./C. 6607</td>\n",
              "      <td>23.4500</td>\n",
              "      <td>NaN</td>\n",
              "      <td>S</td>\n",
              "    </tr>\n",
              "    <tr>\n",
              "      <th>889</th>\n",
              "      <td>890</td>\n",
              "      <td>1</td>\n",
              "      <td>1</td>\n",
              "      <td>Behr, Mr. Karl Howell</td>\n",
              "      <td>male</td>\n",
              "      <td>26.0</td>\n",
              "      <td>0</td>\n",
              "      <td>0</td>\n",
              "      <td>111369</td>\n",
              "      <td>30.0000</td>\n",
              "      <td>C148</td>\n",
              "      <td>C</td>\n",
              "    </tr>\n",
              "    <tr>\n",
              "      <th>890</th>\n",
              "      <td>891</td>\n",
              "      <td>0</td>\n",
              "      <td>3</td>\n",
              "      <td>Dooley, Mr. Patrick</td>\n",
              "      <td>male</td>\n",
              "      <td>32.0</td>\n",
              "      <td>0</td>\n",
              "      <td>0</td>\n",
              "      <td>370376</td>\n",
              "      <td>7.7500</td>\n",
              "      <td>NaN</td>\n",
              "      <td>Q</td>\n",
              "    </tr>\n",
              "  </tbody>\n",
              "</table>\n",
              "<p>891 rows × 12 columns</p>\n",
              "</div>\n",
              "    <div class=\"colab-df-buttons\">\n",
              "\n",
              "  <div class=\"colab-df-container\">\n",
              "    <button class=\"colab-df-convert\" onclick=\"convertToInteractive('df-ce2a9872-6f02-4865-817c-2cb54f7104e6')\"\n",
              "            title=\"Convert this dataframe to an interactive table.\"\n",
              "            style=\"display:none;\">\n",
              "\n",
              "  <svg xmlns=\"http://www.w3.org/2000/svg\" height=\"24px\" viewBox=\"0 -960 960 960\">\n",
              "    <path d=\"M120-120v-720h720v720H120Zm60-500h600v-160H180v160Zm220 220h160v-160H400v160Zm0 220h160v-160H400v160ZM180-400h160v-160H180v160Zm440 0h160v-160H620v160ZM180-180h160v-160H180v160Zm440 0h160v-160H620v160Z\"/>\n",
              "  </svg>\n",
              "    </button>\n",
              "\n",
              "  <style>\n",
              "    .colab-df-container {\n",
              "      display:flex;\n",
              "      gap: 12px;\n",
              "    }\n",
              "\n",
              "    .colab-df-convert {\n",
              "      background-color: #E8F0FE;\n",
              "      border: none;\n",
              "      border-radius: 50%;\n",
              "      cursor: pointer;\n",
              "      display: none;\n",
              "      fill: #1967D2;\n",
              "      height: 32px;\n",
              "      padding: 0 0 0 0;\n",
              "      width: 32px;\n",
              "    }\n",
              "\n",
              "    .colab-df-convert:hover {\n",
              "      background-color: #E2EBFA;\n",
              "      box-shadow: 0px 1px 2px rgba(60, 64, 67, 0.3), 0px 1px 3px 1px rgba(60, 64, 67, 0.15);\n",
              "      fill: #174EA6;\n",
              "    }\n",
              "\n",
              "    .colab-df-buttons div {\n",
              "      margin-bottom: 4px;\n",
              "    }\n",
              "\n",
              "    [theme=dark] .colab-df-convert {\n",
              "      background-color: #3B4455;\n",
              "      fill: #D2E3FC;\n",
              "    }\n",
              "\n",
              "    [theme=dark] .colab-df-convert:hover {\n",
              "      background-color: #434B5C;\n",
              "      box-shadow: 0px 1px 3px 1px rgba(0, 0, 0, 0.15);\n",
              "      filter: drop-shadow(0px 1px 2px rgba(0, 0, 0, 0.3));\n",
              "      fill: #FFFFFF;\n",
              "    }\n",
              "  </style>\n",
              "\n",
              "    <script>\n",
              "      const buttonEl =\n",
              "        document.querySelector('#df-ce2a9872-6f02-4865-817c-2cb54f7104e6 button.colab-df-convert');\n",
              "      buttonEl.style.display =\n",
              "        google.colab.kernel.accessAllowed ? 'block' : 'none';\n",
              "\n",
              "      async function convertToInteractive(key) {\n",
              "        const element = document.querySelector('#df-ce2a9872-6f02-4865-817c-2cb54f7104e6');\n",
              "        const dataTable =\n",
              "          await google.colab.kernel.invokeFunction('convertToInteractive',\n",
              "                                                    [key], {});\n",
              "        if (!dataTable) return;\n",
              "\n",
              "        const docLinkHtml = 'Like what you see? Visit the ' +\n",
              "          '<a target=\"_blank\" href=https://colab.research.google.com/notebooks/data_table.ipynb>data table notebook</a>'\n",
              "          + ' to learn more about interactive tables.';\n",
              "        element.innerHTML = '';\n",
              "        dataTable['output_type'] = 'display_data';\n",
              "        await google.colab.output.renderOutput(dataTable, element);\n",
              "        const docLink = document.createElement('div');\n",
              "        docLink.innerHTML = docLinkHtml;\n",
              "        element.appendChild(docLink);\n",
              "      }\n",
              "    </script>\n",
              "  </div>\n",
              "\n",
              "\n",
              "<div id=\"df-977e4b21-31d1-46cd-8490-b87ea810941c\">\n",
              "  <button class=\"colab-df-quickchart\" onclick=\"quickchart('df-977e4b21-31d1-46cd-8490-b87ea810941c')\"\n",
              "            title=\"Suggest charts.\"\n",
              "            style=\"display:none;\">\n",
              "\n",
              "<svg xmlns=\"http://www.w3.org/2000/svg\" height=\"24px\"viewBox=\"0 0 24 24\"\n",
              "     width=\"24px\">\n",
              "    <g>\n",
              "        <path d=\"M19 3H5c-1.1 0-2 .9-2 2v14c0 1.1.9 2 2 2h14c1.1 0 2-.9 2-2V5c0-1.1-.9-2-2-2zM9 17H7v-7h2v7zm4 0h-2V7h2v10zm4 0h-2v-4h2v4z\"/>\n",
              "    </g>\n",
              "</svg>\n",
              "  </button>\n",
              "\n",
              "<style>\n",
              "  .colab-df-quickchart {\n",
              "      --bg-color: #E8F0FE;\n",
              "      --fill-color: #1967D2;\n",
              "      --hover-bg-color: #E2EBFA;\n",
              "      --hover-fill-color: #174EA6;\n",
              "      --disabled-fill-color: #AAA;\n",
              "      --disabled-bg-color: #DDD;\n",
              "  }\n",
              "\n",
              "  [theme=dark] .colab-df-quickchart {\n",
              "      --bg-color: #3B4455;\n",
              "      --fill-color: #D2E3FC;\n",
              "      --hover-bg-color: #434B5C;\n",
              "      --hover-fill-color: #FFFFFF;\n",
              "      --disabled-bg-color: #3B4455;\n",
              "      --disabled-fill-color: #666;\n",
              "  }\n",
              "\n",
              "  .colab-df-quickchart {\n",
              "    background-color: var(--bg-color);\n",
              "    border: none;\n",
              "    border-radius: 50%;\n",
              "    cursor: pointer;\n",
              "    display: none;\n",
              "    fill: var(--fill-color);\n",
              "    height: 32px;\n",
              "    padding: 0;\n",
              "    width: 32px;\n",
              "  }\n",
              "\n",
              "  .colab-df-quickchart:hover {\n",
              "    background-color: var(--hover-bg-color);\n",
              "    box-shadow: 0 1px 2px rgba(60, 64, 67, 0.3), 0 1px 3px 1px rgba(60, 64, 67, 0.15);\n",
              "    fill: var(--button-hover-fill-color);\n",
              "  }\n",
              "\n",
              "  .colab-df-quickchart-complete:disabled,\n",
              "  .colab-df-quickchart-complete:disabled:hover {\n",
              "    background-color: var(--disabled-bg-color);\n",
              "    fill: var(--disabled-fill-color);\n",
              "    box-shadow: none;\n",
              "  }\n",
              "\n",
              "  .colab-df-spinner {\n",
              "    border: 2px solid var(--fill-color);\n",
              "    border-color: transparent;\n",
              "    border-bottom-color: var(--fill-color);\n",
              "    animation:\n",
              "      spin 1s steps(1) infinite;\n",
              "  }\n",
              "\n",
              "  @keyframes spin {\n",
              "    0% {\n",
              "      border-color: transparent;\n",
              "      border-bottom-color: var(--fill-color);\n",
              "      border-left-color: var(--fill-color);\n",
              "    }\n",
              "    20% {\n",
              "      border-color: transparent;\n",
              "      border-left-color: var(--fill-color);\n",
              "      border-top-color: var(--fill-color);\n",
              "    }\n",
              "    30% {\n",
              "      border-color: transparent;\n",
              "      border-left-color: var(--fill-color);\n",
              "      border-top-color: var(--fill-color);\n",
              "      border-right-color: var(--fill-color);\n",
              "    }\n",
              "    40% {\n",
              "      border-color: transparent;\n",
              "      border-right-color: var(--fill-color);\n",
              "      border-top-color: var(--fill-color);\n",
              "    }\n",
              "    60% {\n",
              "      border-color: transparent;\n",
              "      border-right-color: var(--fill-color);\n",
              "    }\n",
              "    80% {\n",
              "      border-color: transparent;\n",
              "      border-right-color: var(--fill-color);\n",
              "      border-bottom-color: var(--fill-color);\n",
              "    }\n",
              "    90% {\n",
              "      border-color: transparent;\n",
              "      border-bottom-color: var(--fill-color);\n",
              "    }\n",
              "  }\n",
              "</style>\n",
              "\n",
              "  <script>\n",
              "    async function quickchart(key) {\n",
              "      const quickchartButtonEl =\n",
              "        document.querySelector('#' + key + ' button');\n",
              "      quickchartButtonEl.disabled = true;  // To prevent multiple clicks.\n",
              "      quickchartButtonEl.classList.add('colab-df-spinner');\n",
              "      try {\n",
              "        const charts = await google.colab.kernel.invokeFunction(\n",
              "            'suggestCharts', [key], {});\n",
              "      } catch (error) {\n",
              "        console.error('Error during call to suggestCharts:', error);\n",
              "      }\n",
              "      quickchartButtonEl.classList.remove('colab-df-spinner');\n",
              "      quickchartButtonEl.classList.add('colab-df-quickchart-complete');\n",
              "    }\n",
              "    (() => {\n",
              "      let quickchartButtonEl =\n",
              "        document.querySelector('#df-977e4b21-31d1-46cd-8490-b87ea810941c button');\n",
              "      quickchartButtonEl.style.display =\n",
              "        google.colab.kernel.accessAllowed ? 'block' : 'none';\n",
              "    })();\n",
              "  </script>\n",
              "</div>\n",
              "    </div>\n",
              "  </div>\n"
            ]
          },
          "metadata": {},
          "execution_count": 9
        }
      ]
    },
    {
      "cell_type": "markdown",
      "source": [
        "##**TASK 2: Create a DataFrame and Display Rows** ✅\n",
        "\n",
        "* Create a Pandas DataFrame with two columns: \"Name\" and \"Age.\"\n",
        "* Add a few rows of data to the DataFrame with names and ages.   \n",
        "* Display the first few rows of the DataFrame using the head() method.\n",
        "\n",
        "**OUTPUT below:**"
      ],
      "metadata": {
        "id": "9oJPVqamD016"
      }
    },
    {
      "cell_type": "markdown",
      "source": [
        "![ui.png](data:image/png;base64,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)"
      ],
      "metadata": {
        "id": "TpcqLu3sEn5U"
      }
    },
    {
      "cell_type": "code",
      "source": [
        "# write your code here"
      ],
      "metadata": {
        "id": "5cAPs-pqE1tt"
      },
      "execution_count": null,
      "outputs": []
    },
    {
      "cell_type": "markdown",
      "source": [
        "## **Task 3 : Calculate the Average of a List of Numbers** ✅\n",
        "\n",
        "* Create a list of numbers (e.g., [10, 15, 20, 25, 30]).\n",
        "* Write a Python program to calculate and print the average (mean) of the numbers in the list.\n",
        "**OUTPUT:* **Average: 20.0**"
      ],
      "metadata": {
        "id": "Bb6mmMT_FO7y"
      }
    },
    {
      "cell_type": "code",
      "source": [
        "# write your code here"
      ],
      "metadata": {
        "id": "d_2sog9yF5dW"
      },
      "execution_count": null,
      "outputs": []
    },
    {
      "cell_type": "markdown",
      "source": [
        "## **Task 4 Example (using a hypothetical sales dataset):**\n",
        "\n"
      ],
      "metadata": {
        "id": "PjSYBLFFHVMn"
      }
    },
    {
      "cell_type": "code",
      "source": [
        "import pandas as pd\n",
        "\n",
        "# Load a sales dataset from a CSV file\n",
        "df = pd.read_csv(\"titanic.csv\")\n",
        "\n",
        "# Calculate and display summary statistics for the 'Sales' column\n",
        "summary_stats_age = df['Age'].describe()\n",
        "\n",
        "print(\"Summary Statistics for Age:\")\n",
        "print(summary_stats_age)"
      ],
      "metadata": {
        "colab": {
          "base_uri": "https://localhost:8080/"
        },
        "id": "DmdI8EI5HedX",
        "outputId": "c9c6efb8-565d-44f3-bf4c-3016697a97c9"
      },
      "execution_count": null,
      "outputs": [
        {
          "output_type": "stream",
          "name": "stdout",
          "text": [
            "Summary Statistics for Age:\n",
            "count    714.000000\n",
            "mean      29.699118\n",
            "std       14.526497\n",
            "min        0.420000\n",
            "25%       20.125000\n",
            "50%       28.000000\n",
            "75%       38.000000\n",
            "max       80.000000\n",
            "Name: Age, dtype: float64\n"
          ]
        }
      ]
    },
    {
      "cell_type": "markdown",
      "source": [
        " * **count:** This is the number of non-null values in the 'Age' column. In this case, there are 714 non-null values, which means that there are 714 passengers with known ages in the dataset.\n",
        "\n",
        "* **mean:** This is the average (arithmetic mean) age of the passengers. The mean age is approximately 29.70 years.\n",
        "\n",
        "* **min:** This is the minimum age observed in the dataset. The youngest passenger in this dataset was approximately 0.42 years old, which is equivalent to a few months.\n",
        "\n",
        "* **25%:** This is the 25th percentile, also known as the first quartile. It represents the age below which 25% of the passengers fall. In this case, 25% of the passengers are aged 20.13 years or younger.\n"
      ],
      "metadata": {
        "id": "wNiGhIcpJvBS"
      }
    },
    {
      "cell_type": "markdown",
      "source": [
        "## **Task 4 : Read and Summarize Data from a CSV File** ✅\n",
        "\n",
        "* Download a CSV dataset (e.g., a dataset containing sales data, student grades, or any other dataset of interest).\n",
        "* Use Pandas to read the CSV file into a DataFrame.\n",
        "* Calculate and display summary statistics for a numeric column in the DataFrame (e.g., calculate the average, maximum, minimum of sales values, or grades).\n",
        "\n",
        "**Pick your own dataset from:** https://www.kaggle.com/\n"
      ],
      "metadata": {
        "id": "SGt7ly-5HnUt"
      }
    },
    {
      "cell_type": "code",
      "source": [
        "# pick your own dataset from kaggle.com\n",
        "# experiment with different functions\n",
        "\n",
        "\n"
      ],
      "metadata": {
        "id": "xlyquFPkHpQP"
      },
      "execution_count": null,
      "outputs": []
    }
  ]
}